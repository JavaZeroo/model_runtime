{
 "cells": [
  {
   "cell_type": "code",
   "execution_count": 2,
   "metadata": {},
   "outputs": [
    {
     "data": {
      "text/html": [
       "<pre style=\"white-space:pre;overflow-x:auto;line-height:normal;font-family:Menlo,'DejaVu Sans Mono',consolas,'Courier New',monospace\">Loading Train data<span style=\"color: #808000; text-decoration-color: #808000\">...</span>\n",
       "</pre>\n"
      ],
      "text/plain": [
       "Loading Train data\u001b[33m...\u001b[0m\n"
      ]
     },
     "metadata": {},
     "output_type": "display_data"
    },
    {
     "data": {
      "text/html": [
       "<pre style=\"white-space:pre;overflow-x:auto;line-height:normal;font-family:Menlo,'DejaVu Sans Mono',consolas,'Courier New',monospace\">Loading Validation data<span style=\"color: #808000; text-decoration-color: #808000\">...</span>\n",
       "</pre>\n"
      ],
      "text/plain": [
       "Loading Validation data\u001b[33m...\u001b[0m\n"
      ]
     },
     "metadata": {},
     "output_type": "display_data"
    },
    {
     "data": {
      "text/html": [
       "<pre style=\"white-space:pre;overflow-x:auto;line-height:normal;font-family:Menlo,'DejaVu Sans Mono',consolas,'Courier New',monospace\">Loading Test data<span style=\"color: #808000; text-decoration-color: #808000\">...</span>\n",
       "</pre>\n"
      ],
      "text/plain": [
       "Loading Test data\u001b[33m...\u001b[0m\n"
      ]
     },
     "metadata": {},
     "output_type": "display_data"
    }
   ],
   "source": [
    "from pathlib import Path\n",
    "import numpy as np\n",
    "from rich import print\n",
    "DATA_ROOT = Path('kaggle_data')\n",
    "\n",
    "print('Loading Train data...')\n",
    "ndf_files_train = list((DATA_ROOT / 'npz_all/npz/layout/nlp/default/train').iterdir())\n",
    "nrd_files_train = list((DATA_ROOT / 'npz_all/npz/layout/nlp/random/train').iterdir())\n",
    "xdf_files_train = list((DATA_ROOT / 'npz_all/npz/layout/xla/default/train').iterdir())\n",
    "xrd_files_train = list((DATA_ROOT / 'npz_all/npz/layout/xla/random/train').iterdir())\n",
    "\n",
    "ndf_nps_train = [np.load(f) for f in ndf_files_train]\n",
    "nrd_nps_train = [np.load(f) for f in nrd_files_train]\n",
    "xdf_nps_train = [np.load(f) for f in xdf_files_train]\n",
    "xrd_nps_train = [np.load(f) for f in xrd_files_train]\n",
    "\n",
    "print('Loading Validation data...')\n",
    "ndf_files_valid = list((DATA_ROOT / 'npz_all/npz/layout/nlp/default/valid').iterdir())\n",
    "nrd_files_valid = list((DATA_ROOT / 'npz_all/npz/layout/nlp/random/valid').iterdir())\n",
    "xdf_files_valid = list((DATA_ROOT / 'npz_all/npz/layout/xla/default/valid').iterdir())\n",
    "xrd_files_valid = list((DATA_ROOT / 'npz_all/npz/layout/xla/random/valid').iterdir())\n",
    "\n",
    "ndf_nps_valid = [np.load(f) for f in ndf_files_valid]\n",
    "nrd_nps_valid = [np.load(f) for f in nrd_files_valid]\n",
    "xdf_nps_valid = [np.load(f) for f in xdf_files_valid]\n",
    "xrd_nps_valid = [np.load(f) for f in xrd_files_valid]\n",
    "\n",
    "print('Loading Test data...')\n",
    "ndf_files_test = list((DATA_ROOT / 'npz_all/npz/layout/nlp/default/test').iterdir())\n",
    "nrd_files_test = list((DATA_ROOT / 'npz_all/npz/layout/nlp/random/test').iterdir())\n",
    "xdf_files_test = list((DATA_ROOT / 'npz_all/npz/layout/xla/default/test').iterdir())\n",
    "xrd_files_test = list((DATA_ROOT / 'npz_all/npz/layout/xla/random/test').iterdir())\n",
    "\n",
    "ndf_nps_test = [np.load(f) for f in ndf_files_test]\n",
    "nrd_nps_test = [np.load(f) for f in nrd_files_test]\n",
    "xdf_nps_test = [np.load(f) for f in xdf_files_test]\n",
    "xrd_nps_test = [np.load(f) for f in xrd_files_test]"
   ]
  },
  {
   "cell_type": "code",
   "execution_count": 3,
   "metadata": {},
   "outputs": [
    {
     "data": {
      "text/html": [
       "<pre style=\"white-space:pre;overflow-x:auto;line-height:normal;font-family:Menlo,'DejaVu Sans Mono',consolas,'Courier New',monospace\"><span style=\"font-weight: bold\">{</span>\n",
       "    <span style=\"color: #008000; text-decoration-color: #008000\">'node_feat'</span>: <span style=\"font-weight: bold\">(</span><span style=\"color: #008080; text-decoration-color: #008080; font-weight: bold\">1696</span>, <span style=\"color: #008080; text-decoration-color: #008080; font-weight: bold\">140</span><span style=\"font-weight: bold\">)</span>,\n",
       "    <span style=\"color: #008000; text-decoration-color: #008000\">'node_opcode'</span>: <span style=\"font-weight: bold\">(</span><span style=\"color: #008080; text-decoration-color: #008080; font-weight: bold\">1696</span>,<span style=\"font-weight: bold\">)</span>,\n",
       "    <span style=\"color: #008000; text-decoration-color: #008000\">'edge_index'</span>: <span style=\"font-weight: bold\">(</span><span style=\"color: #008080; text-decoration-color: #008080; font-weight: bold\">2697</span>, <span style=\"color: #008080; text-decoration-color: #008080; font-weight: bold\">2</span><span style=\"font-weight: bold\">)</span>,\n",
       "    <span style=\"color: #008000; text-decoration-color: #008000\">'node_config_feat'</span>: <span style=\"font-weight: bold\">(</span><span style=\"color: #008080; text-decoration-color: #008080; font-weight: bold\">100040</span>, <span style=\"color: #008080; text-decoration-color: #008080; font-weight: bold\">121</span>, <span style=\"color: #008080; text-decoration-color: #008080; font-weight: bold\">18</span><span style=\"font-weight: bold\">)</span>,\n",
       "    <span style=\"color: #008000; text-decoration-color: #008000\">'node_config_ids'</span>: <span style=\"font-weight: bold\">(</span><span style=\"color: #008080; text-decoration-color: #008080; font-weight: bold\">121</span>,<span style=\"font-weight: bold\">)</span>,\n",
       "    <span style=\"color: #008000; text-decoration-color: #008000\">'config_runtime'</span>: <span style=\"font-weight: bold\">(</span><span style=\"color: #008080; text-decoration-color: #008080; font-weight: bold\">100040</span>,<span style=\"font-weight: bold\">)</span>,\n",
       "    <span style=\"color: #008000; text-decoration-color: #008000\">'node_splits'</span>: <span style=\"font-weight: bold\">(</span><span style=\"color: #008080; text-decoration-color: #008080; font-weight: bold\">1</span>, <span style=\"color: #008080; text-decoration-color: #008080; font-weight: bold\">2</span><span style=\"font-weight: bold\">)</span>\n",
       "<span style=\"font-weight: bold\">}</span>\n",
       "</pre>\n"
      ],
      "text/plain": [
       "\u001b[1m{\u001b[0m\n",
       "    \u001b[32m'node_feat'\u001b[0m: \u001b[1m(\u001b[0m\u001b[1;36m1696\u001b[0m, \u001b[1;36m140\u001b[0m\u001b[1m)\u001b[0m,\n",
       "    \u001b[32m'node_opcode'\u001b[0m: \u001b[1m(\u001b[0m\u001b[1;36m1696\u001b[0m,\u001b[1m)\u001b[0m,\n",
       "    \u001b[32m'edge_index'\u001b[0m: \u001b[1m(\u001b[0m\u001b[1;36m2697\u001b[0m, \u001b[1;36m2\u001b[0m\u001b[1m)\u001b[0m,\n",
       "    \u001b[32m'node_config_feat'\u001b[0m: \u001b[1m(\u001b[0m\u001b[1;36m100040\u001b[0m, \u001b[1;36m121\u001b[0m, \u001b[1;36m18\u001b[0m\u001b[1m)\u001b[0m,\n",
       "    \u001b[32m'node_config_ids'\u001b[0m: \u001b[1m(\u001b[0m\u001b[1;36m121\u001b[0m,\u001b[1m)\u001b[0m,\n",
       "    \u001b[32m'config_runtime'\u001b[0m: \u001b[1m(\u001b[0m\u001b[1;36m100040\u001b[0m,\u001b[1m)\u001b[0m,\n",
       "    \u001b[32m'node_splits'\u001b[0m: \u001b[1m(\u001b[0m\u001b[1;36m1\u001b[0m, \u001b[1;36m2\u001b[0m\u001b[1m)\u001b[0m\n",
       "\u001b[1m}\u001b[0m\n"
      ]
     },
     "metadata": {},
     "output_type": "display_data"
    },
    {
     "data": {
      "text/html": [
       "<pre style=\"white-space:pre;overflow-x:auto;line-height:normal;font-family:Menlo,'DejaVu Sans Mono',consolas,'Courier New',monospace\"><span style=\"font-weight: bold\">{</span>\n",
       "    <span style=\"color: #008000; text-decoration-color: #008000\">'node_feat'</span>: <span style=\"font-weight: bold\">(</span><span style=\"color: #008080; text-decoration-color: #008080; font-weight: bold\">1696</span>, <span style=\"color: #008080; text-decoration-color: #008080; font-weight: bold\">140</span><span style=\"font-weight: bold\">)</span>,\n",
       "    <span style=\"color: #008000; text-decoration-color: #008000\">'node_opcode'</span>: <span style=\"font-weight: bold\">(</span><span style=\"color: #008080; text-decoration-color: #008080; font-weight: bold\">1696</span>,<span style=\"font-weight: bold\">)</span>,\n",
       "    <span style=\"color: #008000; text-decoration-color: #008000\">'edge_index'</span>: <span style=\"font-weight: bold\">(</span><span style=\"color: #008080; text-decoration-color: #008080; font-weight: bold\">2697</span>, <span style=\"color: #008080; text-decoration-color: #008080; font-weight: bold\">2</span><span style=\"font-weight: bold\">)</span>,\n",
       "    <span style=\"color: #008000; text-decoration-color: #008000\">'node_config_feat'</span>: <span style=\"font-weight: bold\">(</span><span style=\"color: #008080; text-decoration-color: #008080; font-weight: bold\">100040</span>, <span style=\"color: #008080; text-decoration-color: #008080; font-weight: bold\">121</span>, <span style=\"color: #008080; text-decoration-color: #008080; font-weight: bold\">18</span><span style=\"font-weight: bold\">)</span>,\n",
       "    <span style=\"color: #008000; text-decoration-color: #008000\">'node_config_ids'</span>: <span style=\"font-weight: bold\">(</span><span style=\"color: #008080; text-decoration-color: #008080; font-weight: bold\">121</span>,<span style=\"font-weight: bold\">)</span>,\n",
       "    <span style=\"color: #008000; text-decoration-color: #008000\">'config_runtime'</span>: <span style=\"font-weight: bold\">(</span><span style=\"color: #008080; text-decoration-color: #008080; font-weight: bold\">100040</span>,<span style=\"font-weight: bold\">)</span>,\n",
       "    <span style=\"color: #008000; text-decoration-color: #008000\">'node_splits'</span>: <span style=\"font-weight: bold\">(</span><span style=\"color: #008080; text-decoration-color: #008080; font-weight: bold\">1</span>, <span style=\"color: #008080; text-decoration-color: #008080; font-weight: bold\">2</span><span style=\"font-weight: bold\">)</span>\n",
       "<span style=\"font-weight: bold\">}</span>\n",
       "</pre>\n"
      ],
      "text/plain": [
       "\u001b[1m{\u001b[0m\n",
       "    \u001b[32m'node_feat'\u001b[0m: \u001b[1m(\u001b[0m\u001b[1;36m1696\u001b[0m, \u001b[1;36m140\u001b[0m\u001b[1m)\u001b[0m,\n",
       "    \u001b[32m'node_opcode'\u001b[0m: \u001b[1m(\u001b[0m\u001b[1;36m1696\u001b[0m,\u001b[1m)\u001b[0m,\n",
       "    \u001b[32m'edge_index'\u001b[0m: \u001b[1m(\u001b[0m\u001b[1;36m2697\u001b[0m, \u001b[1;36m2\u001b[0m\u001b[1m)\u001b[0m,\n",
       "    \u001b[32m'node_config_feat'\u001b[0m: \u001b[1m(\u001b[0m\u001b[1;36m100040\u001b[0m, \u001b[1;36m121\u001b[0m, \u001b[1;36m18\u001b[0m\u001b[1m)\u001b[0m,\n",
       "    \u001b[32m'node_config_ids'\u001b[0m: \u001b[1m(\u001b[0m\u001b[1;36m121\u001b[0m,\u001b[1m)\u001b[0m,\n",
       "    \u001b[32m'config_runtime'\u001b[0m: \u001b[1m(\u001b[0m\u001b[1;36m100040\u001b[0m,\u001b[1m)\u001b[0m,\n",
       "    \u001b[32m'node_splits'\u001b[0m: \u001b[1m(\u001b[0m\u001b[1;36m1\u001b[0m, \u001b[1;36m2\u001b[0m\u001b[1m)\u001b[0m\n",
       "\u001b[1m}\u001b[0m\n"
      ]
     },
     "metadata": {},
     "output_type": "display_data"
    },
    {
     "data": {
      "text/html": [
       "<pre style=\"white-space:pre;overflow-x:auto;line-height:normal;font-family:Menlo,'DejaVu Sans Mono',consolas,'Courier New',monospace\"><span style=\"font-weight: bold\">{</span>\n",
       "    <span style=\"color: #008000; text-decoration-color: #008000\">'node_feat'</span>: <span style=\"font-weight: bold\">(</span><span style=\"color: #008080; text-decoration-color: #008080; font-weight: bold\">372</span>, <span style=\"color: #008080; text-decoration-color: #008080; font-weight: bold\">140</span><span style=\"font-weight: bold\">)</span>,\n",
       "    <span style=\"color: #008000; text-decoration-color: #008000\">'node_opcode'</span>: <span style=\"font-weight: bold\">(</span><span style=\"color: #008080; text-decoration-color: #008080; font-weight: bold\">372</span>,<span style=\"font-weight: bold\">)</span>,\n",
       "    <span style=\"color: #008000; text-decoration-color: #008000\">'edge_index'</span>: <span style=\"font-weight: bold\">(</span><span style=\"color: #008080; text-decoration-color: #008080; font-weight: bold\">597</span>, <span style=\"color: #008080; text-decoration-color: #008080; font-weight: bold\">2</span><span style=\"font-weight: bold\">)</span>,\n",
       "    <span style=\"color: #008000; text-decoration-color: #008000\">'node_config_feat'</span>: <span style=\"font-weight: bold\">(</span><span style=\"color: #008080; text-decoration-color: #008080; font-weight: bold\">47712</span>, <span style=\"color: #008080; text-decoration-color: #008080; font-weight: bold\">26</span>, <span style=\"color: #008080; text-decoration-color: #008080; font-weight: bold\">18</span><span style=\"font-weight: bold\">)</span>,\n",
       "    <span style=\"color: #008000; text-decoration-color: #008000\">'node_config_ids'</span>: <span style=\"font-weight: bold\">(</span><span style=\"color: #008080; text-decoration-color: #008080; font-weight: bold\">26</span>,<span style=\"font-weight: bold\">)</span>,\n",
       "    <span style=\"color: #008000; text-decoration-color: #008000\">'config_runtime'</span>: <span style=\"font-weight: bold\">(</span><span style=\"color: #008080; text-decoration-color: #008080; font-weight: bold\">47712</span>,<span style=\"font-weight: bold\">)</span>,\n",
       "    <span style=\"color: #008000; text-decoration-color: #008000\">'node_splits'</span>: <span style=\"font-weight: bold\">(</span><span style=\"color: #008080; text-decoration-color: #008080; font-weight: bold\">1</span>, <span style=\"color: #008080; text-decoration-color: #008080; font-weight: bold\">3</span><span style=\"font-weight: bold\">)</span>\n",
       "<span style=\"font-weight: bold\">}</span>\n",
       "</pre>\n"
      ],
      "text/plain": [
       "\u001b[1m{\u001b[0m\n",
       "    \u001b[32m'node_feat'\u001b[0m: \u001b[1m(\u001b[0m\u001b[1;36m372\u001b[0m, \u001b[1;36m140\u001b[0m\u001b[1m)\u001b[0m,\n",
       "    \u001b[32m'node_opcode'\u001b[0m: \u001b[1m(\u001b[0m\u001b[1;36m372\u001b[0m,\u001b[1m)\u001b[0m,\n",
       "    \u001b[32m'edge_index'\u001b[0m: \u001b[1m(\u001b[0m\u001b[1;36m597\u001b[0m, \u001b[1;36m2\u001b[0m\u001b[1m)\u001b[0m,\n",
       "    \u001b[32m'node_config_feat'\u001b[0m: \u001b[1m(\u001b[0m\u001b[1;36m47712\u001b[0m, \u001b[1;36m26\u001b[0m, \u001b[1;36m18\u001b[0m\u001b[1m)\u001b[0m,\n",
       "    \u001b[32m'node_config_ids'\u001b[0m: \u001b[1m(\u001b[0m\u001b[1;36m26\u001b[0m,\u001b[1m)\u001b[0m,\n",
       "    \u001b[32m'config_runtime'\u001b[0m: \u001b[1m(\u001b[0m\u001b[1;36m47712\u001b[0m,\u001b[1m)\u001b[0m,\n",
       "    \u001b[32m'node_splits'\u001b[0m: \u001b[1m(\u001b[0m\u001b[1;36m1\u001b[0m, \u001b[1;36m3\u001b[0m\u001b[1m)\u001b[0m\n",
       "\u001b[1m}\u001b[0m\n"
      ]
     },
     "metadata": {},
     "output_type": "display_data"
    },
    {
     "data": {
      "text/html": [
       "<pre style=\"white-space:pre;overflow-x:auto;line-height:normal;font-family:Menlo,'DejaVu Sans Mono',consolas,'Courier New',monospace\"><span style=\"font-weight: bold\">{</span>\n",
       "    <span style=\"color: #008000; text-decoration-color: #008000\">'node_feat'</span>: <span style=\"font-weight: bold\">(</span><span style=\"color: #008080; text-decoration-color: #008080; font-weight: bold\">372</span>, <span style=\"color: #008080; text-decoration-color: #008080; font-weight: bold\">140</span><span style=\"font-weight: bold\">)</span>,\n",
       "    <span style=\"color: #008000; text-decoration-color: #008000\">'node_opcode'</span>: <span style=\"font-weight: bold\">(</span><span style=\"color: #008080; text-decoration-color: #008080; font-weight: bold\">372</span>,<span style=\"font-weight: bold\">)</span>,\n",
       "    <span style=\"color: #008000; text-decoration-color: #008000\">'edge_index'</span>: <span style=\"font-weight: bold\">(</span><span style=\"color: #008080; text-decoration-color: #008080; font-weight: bold\">597</span>, <span style=\"color: #008080; text-decoration-color: #008080; font-weight: bold\">2</span><span style=\"font-weight: bold\">)</span>,\n",
       "    <span style=\"color: #008000; text-decoration-color: #008000\">'node_config_feat'</span>: <span style=\"font-weight: bold\">(</span><span style=\"color: #008080; text-decoration-color: #008080; font-weight: bold\">29144</span>, <span style=\"color: #008080; text-decoration-color: #008080; font-weight: bold\">26</span>, <span style=\"color: #008080; text-decoration-color: #008080; font-weight: bold\">18</span><span style=\"font-weight: bold\">)</span>,\n",
       "    <span style=\"color: #008000; text-decoration-color: #008000\">'node_config_ids'</span>: <span style=\"font-weight: bold\">(</span><span style=\"color: #008080; text-decoration-color: #008080; font-weight: bold\">26</span>,<span style=\"font-weight: bold\">)</span>,\n",
       "    <span style=\"color: #008000; text-decoration-color: #008000\">'config_runtime'</span>: <span style=\"font-weight: bold\">(</span><span style=\"color: #008080; text-decoration-color: #008080; font-weight: bold\">29144</span>,<span style=\"font-weight: bold\">)</span>,\n",
       "    <span style=\"color: #008000; text-decoration-color: #008000\">'node_splits'</span>: <span style=\"font-weight: bold\">(</span><span style=\"color: #008080; text-decoration-color: #008080; font-weight: bold\">1</span>, <span style=\"color: #008080; text-decoration-color: #008080; font-weight: bold\">3</span><span style=\"font-weight: bold\">)</span>\n",
       "<span style=\"font-weight: bold\">}</span>\n",
       "</pre>\n"
      ],
      "text/plain": [
       "\u001b[1m{\u001b[0m\n",
       "    \u001b[32m'node_feat'\u001b[0m: \u001b[1m(\u001b[0m\u001b[1;36m372\u001b[0m, \u001b[1;36m140\u001b[0m\u001b[1m)\u001b[0m,\n",
       "    \u001b[32m'node_opcode'\u001b[0m: \u001b[1m(\u001b[0m\u001b[1;36m372\u001b[0m,\u001b[1m)\u001b[0m,\n",
       "    \u001b[32m'edge_index'\u001b[0m: \u001b[1m(\u001b[0m\u001b[1;36m597\u001b[0m, \u001b[1;36m2\u001b[0m\u001b[1m)\u001b[0m,\n",
       "    \u001b[32m'node_config_feat'\u001b[0m: \u001b[1m(\u001b[0m\u001b[1;36m29144\u001b[0m, \u001b[1;36m26\u001b[0m, \u001b[1;36m18\u001b[0m\u001b[1m)\u001b[0m,\n",
       "    \u001b[32m'node_config_ids'\u001b[0m: \u001b[1m(\u001b[0m\u001b[1;36m26\u001b[0m,\u001b[1m)\u001b[0m,\n",
       "    \u001b[32m'config_runtime'\u001b[0m: \u001b[1m(\u001b[0m\u001b[1;36m29144\u001b[0m,\u001b[1m)\u001b[0m,\n",
       "    \u001b[32m'node_splits'\u001b[0m: \u001b[1m(\u001b[0m\u001b[1;36m1\u001b[0m, \u001b[1;36m3\u001b[0m\u001b[1m)\u001b[0m\n",
       "\u001b[1m}\u001b[0m\n"
      ]
     },
     "metadata": {},
     "output_type": "display_data"
    },
    {
     "data": {
      "text/html": [
       "<pre style=\"white-space:pre;overflow-x:auto;line-height:normal;font-family:Menlo,'DejaVu Sans Mono',consolas,'Courier New',monospace\"><span style=\"font-weight: bold\">{</span>\n",
       "    <span style=\"color: #008000; text-decoration-color: #008000\">'node_feat'</span>: <span style=\"font-weight: bold\">(</span><span style=\"color: #008080; text-decoration-color: #008080; font-weight: bold\">5400</span>, <span style=\"color: #008080; text-decoration-color: #008080; font-weight: bold\">140</span><span style=\"font-weight: bold\">)</span>,\n",
       "    <span style=\"color: #008000; text-decoration-color: #008000\">'node_opcode'</span>: <span style=\"font-weight: bold\">(</span><span style=\"color: #008080; text-decoration-color: #008080; font-weight: bold\">5400</span>,<span style=\"font-weight: bold\">)</span>,\n",
       "    <span style=\"color: #008000; text-decoration-color: #008000\">'edge_index'</span>: <span style=\"font-weight: bold\">(</span><span style=\"color: #008080; text-decoration-color: #008080; font-weight: bold\">9113</span>, <span style=\"color: #008080; text-decoration-color: #008080; font-weight: bold\">2</span><span style=\"font-weight: bold\">)</span>,\n",
       "    <span style=\"color: #008000; text-decoration-color: #008000\">'node_config_feat'</span>: <span style=\"font-weight: bold\">(</span><span style=\"color: #008080; text-decoration-color: #008080; font-weight: bold\">38984</span>, <span style=\"color: #008080; text-decoration-color: #008080; font-weight: bold\">346</span>, <span style=\"color: #008080; text-decoration-color: #008080; font-weight: bold\">18</span><span style=\"font-weight: bold\">)</span>,\n",
       "    <span style=\"color: #008000; text-decoration-color: #008000\">'node_config_ids'</span>: <span style=\"font-weight: bold\">(</span><span style=\"color: #008080; text-decoration-color: #008080; font-weight: bold\">346</span>,<span style=\"font-weight: bold\">)</span>,\n",
       "    <span style=\"color: #008000; text-decoration-color: #008000\">'config_runtime'</span>: <span style=\"font-weight: bold\">(</span><span style=\"color: #008080; text-decoration-color: #008080; font-weight: bold\">38984</span>,<span style=\"font-weight: bold\">)</span>,\n",
       "    <span style=\"color: #008000; text-decoration-color: #008000\">'node_splits'</span>: <span style=\"font-weight: bold\">(</span><span style=\"color: #008080; text-decoration-color: #008080; font-weight: bold\">1</span>, <span style=\"color: #008080; text-decoration-color: #008080; font-weight: bold\">2</span><span style=\"font-weight: bold\">)</span>\n",
       "<span style=\"font-weight: bold\">}</span>\n",
       "</pre>\n"
      ],
      "text/plain": [
       "\u001b[1m{\u001b[0m\n",
       "    \u001b[32m'node_feat'\u001b[0m: \u001b[1m(\u001b[0m\u001b[1;36m5400\u001b[0m, \u001b[1;36m140\u001b[0m\u001b[1m)\u001b[0m,\n",
       "    \u001b[32m'node_opcode'\u001b[0m: \u001b[1m(\u001b[0m\u001b[1;36m5400\u001b[0m,\u001b[1m)\u001b[0m,\n",
       "    \u001b[32m'edge_index'\u001b[0m: \u001b[1m(\u001b[0m\u001b[1;36m9113\u001b[0m, \u001b[1;36m2\u001b[0m\u001b[1m)\u001b[0m,\n",
       "    \u001b[32m'node_config_feat'\u001b[0m: \u001b[1m(\u001b[0m\u001b[1;36m38984\u001b[0m, \u001b[1;36m346\u001b[0m, \u001b[1;36m18\u001b[0m\u001b[1m)\u001b[0m,\n",
       "    \u001b[32m'node_config_ids'\u001b[0m: \u001b[1m(\u001b[0m\u001b[1;36m346\u001b[0m,\u001b[1m)\u001b[0m,\n",
       "    \u001b[32m'config_runtime'\u001b[0m: \u001b[1m(\u001b[0m\u001b[1;36m38984\u001b[0m,\u001b[1m)\u001b[0m,\n",
       "    \u001b[32m'node_splits'\u001b[0m: \u001b[1m(\u001b[0m\u001b[1;36m1\u001b[0m, \u001b[1;36m2\u001b[0m\u001b[1m)\u001b[0m\n",
       "\u001b[1m}\u001b[0m\n"
      ]
     },
     "metadata": {},
     "output_type": "display_data"
    },
    {
     "data": {
      "text/html": [
       "<pre style=\"white-space:pre;overflow-x:auto;line-height:normal;font-family:Menlo,'DejaVu Sans Mono',consolas,'Courier New',monospace\"><span style=\"font-weight: bold\">{</span>\n",
       "    <span style=\"color: #008000; text-decoration-color: #008000\">'node_feat'</span>: <span style=\"font-weight: bold\">(</span><span style=\"color: #008080; text-decoration-color: #008080; font-weight: bold\">5400</span>, <span style=\"color: #008080; text-decoration-color: #008080; font-weight: bold\">140</span><span style=\"font-weight: bold\">)</span>,\n",
       "    <span style=\"color: #008000; text-decoration-color: #008000\">'node_opcode'</span>: <span style=\"font-weight: bold\">(</span><span style=\"color: #008080; text-decoration-color: #008080; font-weight: bold\">5400</span>,<span style=\"font-weight: bold\">)</span>,\n",
       "    <span style=\"color: #008000; text-decoration-color: #008000\">'edge_index'</span>: <span style=\"font-weight: bold\">(</span><span style=\"color: #008080; text-decoration-color: #008080; font-weight: bold\">9113</span>, <span style=\"color: #008080; text-decoration-color: #008080; font-weight: bold\">2</span><span style=\"font-weight: bold\">)</span>,\n",
       "    <span style=\"color: #008000; text-decoration-color: #008000\">'node_config_feat'</span>: <span style=\"font-weight: bold\">(</span><span style=\"color: #008080; text-decoration-color: #008080; font-weight: bold\">37768</span>, <span style=\"color: #008080; text-decoration-color: #008080; font-weight: bold\">346</span>, <span style=\"color: #008080; text-decoration-color: #008080; font-weight: bold\">18</span><span style=\"font-weight: bold\">)</span>,\n",
       "    <span style=\"color: #008000; text-decoration-color: #008000\">'node_config_ids'</span>: <span style=\"font-weight: bold\">(</span><span style=\"color: #008080; text-decoration-color: #008080; font-weight: bold\">346</span>,<span style=\"font-weight: bold\">)</span>,\n",
       "    <span style=\"color: #008000; text-decoration-color: #008000\">'config_runtime'</span>: <span style=\"font-weight: bold\">(</span><span style=\"color: #008080; text-decoration-color: #008080; font-weight: bold\">37768</span>,<span style=\"font-weight: bold\">)</span>,\n",
       "    <span style=\"color: #008000; text-decoration-color: #008000\">'node_splits'</span>: <span style=\"font-weight: bold\">(</span><span style=\"color: #008080; text-decoration-color: #008080; font-weight: bold\">1</span>, <span style=\"color: #008080; text-decoration-color: #008080; font-weight: bold\">2</span><span style=\"font-weight: bold\">)</span>\n",
       "<span style=\"font-weight: bold\">}</span>\n",
       "</pre>\n"
      ],
      "text/plain": [
       "\u001b[1m{\u001b[0m\n",
       "    \u001b[32m'node_feat'\u001b[0m: \u001b[1m(\u001b[0m\u001b[1;36m5400\u001b[0m, \u001b[1;36m140\u001b[0m\u001b[1m)\u001b[0m,\n",
       "    \u001b[32m'node_opcode'\u001b[0m: \u001b[1m(\u001b[0m\u001b[1;36m5400\u001b[0m,\u001b[1m)\u001b[0m,\n",
       "    \u001b[32m'edge_index'\u001b[0m: \u001b[1m(\u001b[0m\u001b[1;36m9113\u001b[0m, \u001b[1;36m2\u001b[0m\u001b[1m)\u001b[0m,\n",
       "    \u001b[32m'node_config_feat'\u001b[0m: \u001b[1m(\u001b[0m\u001b[1;36m37768\u001b[0m, \u001b[1;36m346\u001b[0m, \u001b[1;36m18\u001b[0m\u001b[1m)\u001b[0m,\n",
       "    \u001b[32m'node_config_ids'\u001b[0m: \u001b[1m(\u001b[0m\u001b[1;36m346\u001b[0m,\u001b[1m)\u001b[0m,\n",
       "    \u001b[32m'config_runtime'\u001b[0m: \u001b[1m(\u001b[0m\u001b[1;36m37768\u001b[0m,\u001b[1m)\u001b[0m,\n",
       "    \u001b[32m'node_splits'\u001b[0m: \u001b[1m(\u001b[0m\u001b[1;36m1\u001b[0m, \u001b[1;36m2\u001b[0m\u001b[1m)\u001b[0m\n",
       "\u001b[1m}\u001b[0m\n"
      ]
     },
     "metadata": {},
     "output_type": "display_data"
    },
    {
     "data": {
      "text/html": [
       "<pre style=\"white-space:pre;overflow-x:auto;line-height:normal;font-family:Menlo,'DejaVu Sans Mono',consolas,'Courier New',monospace\"><span style=\"font-weight: bold\">{</span>\n",
       "    <span style=\"color: #008000; text-decoration-color: #008000\">'node_feat'</span>: <span style=\"font-weight: bold\">(</span><span style=\"color: #008080; text-decoration-color: #008080; font-weight: bold\">40332</span>, <span style=\"color: #008080; text-decoration-color: #008080; font-weight: bold\">140</span><span style=\"font-weight: bold\">)</span>,\n",
       "    <span style=\"color: #008000; text-decoration-color: #008000\">'node_opcode'</span>: <span style=\"font-weight: bold\">(</span><span style=\"color: #008080; text-decoration-color: #008080; font-weight: bold\">40332</span>,<span style=\"font-weight: bold\">)</span>,\n",
       "    <span style=\"color: #008000; text-decoration-color: #008000\">'edge_index'</span>: <span style=\"font-weight: bold\">(</span><span style=\"color: #008080; text-decoration-color: #008080; font-weight: bold\">71912</span>, <span style=\"color: #008080; text-decoration-color: #008080; font-weight: bold\">2</span><span style=\"font-weight: bold\">)</span>,\n",
       "    <span style=\"color: #008000; text-decoration-color: #008000\">'node_config_feat'</span>: <span style=\"font-weight: bold\">(</span><span style=\"color: #008080; text-decoration-color: #008080; font-weight: bold\">11152</span>, <span style=\"color: #008080; text-decoration-color: #008080; font-weight: bold\">2251</span>, <span style=\"color: #008080; text-decoration-color: #008080; font-weight: bold\">18</span><span style=\"font-weight: bold\">)</span>,\n",
       "    <span style=\"color: #008000; text-decoration-color: #008000\">'node_config_ids'</span>: <span style=\"font-weight: bold\">(</span><span style=\"color: #008080; text-decoration-color: #008080; font-weight: bold\">2251</span>,<span style=\"font-weight: bold\">)</span>,\n",
       "    <span style=\"color: #008000; text-decoration-color: #008000\">'config_runtime'</span>: <span style=\"font-weight: bold\">(</span><span style=\"color: #008080; text-decoration-color: #008080; font-weight: bold\">11152</span>,<span style=\"font-weight: bold\">)</span>,\n",
       "    <span style=\"color: #008000; text-decoration-color: #008000\">'node_splits'</span>: <span style=\"font-weight: bold\">(</span><span style=\"color: #008080; text-decoration-color: #008080; font-weight: bold\">1</span>, <span style=\"color: #008080; text-decoration-color: #008080; font-weight: bold\">469</span><span style=\"font-weight: bold\">)</span>\n",
       "<span style=\"font-weight: bold\">}</span>\n",
       "</pre>\n"
      ],
      "text/plain": [
       "\u001b[1m{\u001b[0m\n",
       "    \u001b[32m'node_feat'\u001b[0m: \u001b[1m(\u001b[0m\u001b[1;36m40332\u001b[0m, \u001b[1;36m140\u001b[0m\u001b[1m)\u001b[0m,\n",
       "    \u001b[32m'node_opcode'\u001b[0m: \u001b[1m(\u001b[0m\u001b[1;36m40332\u001b[0m,\u001b[1m)\u001b[0m,\n",
       "    \u001b[32m'edge_index'\u001b[0m: \u001b[1m(\u001b[0m\u001b[1;36m71912\u001b[0m, \u001b[1;36m2\u001b[0m\u001b[1m)\u001b[0m,\n",
       "    \u001b[32m'node_config_feat'\u001b[0m: \u001b[1m(\u001b[0m\u001b[1;36m11152\u001b[0m, \u001b[1;36m2251\u001b[0m, \u001b[1;36m18\u001b[0m\u001b[1m)\u001b[0m,\n",
       "    \u001b[32m'node_config_ids'\u001b[0m: \u001b[1m(\u001b[0m\u001b[1;36m2251\u001b[0m,\u001b[1m)\u001b[0m,\n",
       "    \u001b[32m'config_runtime'\u001b[0m: \u001b[1m(\u001b[0m\u001b[1;36m11152\u001b[0m,\u001b[1m)\u001b[0m,\n",
       "    \u001b[32m'node_splits'\u001b[0m: \u001b[1m(\u001b[0m\u001b[1;36m1\u001b[0m, \u001b[1;36m469\u001b[0m\u001b[1m)\u001b[0m\n",
       "\u001b[1m}\u001b[0m\n"
      ]
     },
     "metadata": {},
     "output_type": "display_data"
    },
    {
     "data": {
      "text/html": [
       "<pre style=\"white-space:pre;overflow-x:auto;line-height:normal;font-family:Menlo,'DejaVu Sans Mono',consolas,'Courier New',monospace\"><span style=\"font-weight: bold\">{</span>\n",
       "    <span style=\"color: #008000; text-decoration-color: #008000\">'node_feat'</span>: <span style=\"font-weight: bold\">(</span><span style=\"color: #008080; text-decoration-color: #008080; font-weight: bold\">40332</span>, <span style=\"color: #008080; text-decoration-color: #008080; font-weight: bold\">140</span><span style=\"font-weight: bold\">)</span>,\n",
       "    <span style=\"color: #008000; text-decoration-color: #008000\">'node_opcode'</span>: <span style=\"font-weight: bold\">(</span><span style=\"color: #008080; text-decoration-color: #008080; font-weight: bold\">40332</span>,<span style=\"font-weight: bold\">)</span>,\n",
       "    <span style=\"color: #008000; text-decoration-color: #008000\">'edge_index'</span>: <span style=\"font-weight: bold\">(</span><span style=\"color: #008080; text-decoration-color: #008080; font-weight: bold\">71912</span>, <span style=\"color: #008080; text-decoration-color: #008080; font-weight: bold\">2</span><span style=\"font-weight: bold\">)</span>,\n",
       "    <span style=\"color: #008000; text-decoration-color: #008000\">'node_config_feat'</span>: <span style=\"font-weight: bold\">(</span><span style=\"color: #008080; text-decoration-color: #008080; font-weight: bold\">10760</span>, <span style=\"color: #008080; text-decoration-color: #008080; font-weight: bold\">2251</span>, <span style=\"color: #008080; text-decoration-color: #008080; font-weight: bold\">18</span><span style=\"font-weight: bold\">)</span>,\n",
       "    <span style=\"color: #008000; text-decoration-color: #008000\">'node_config_ids'</span>: <span style=\"font-weight: bold\">(</span><span style=\"color: #008080; text-decoration-color: #008080; font-weight: bold\">2251</span>,<span style=\"font-weight: bold\">)</span>,\n",
       "    <span style=\"color: #008000; text-decoration-color: #008000\">'config_runtime'</span>: <span style=\"font-weight: bold\">(</span><span style=\"color: #008080; text-decoration-color: #008080; font-weight: bold\">10760</span>,<span style=\"font-weight: bold\">)</span>,\n",
       "    <span style=\"color: #008000; text-decoration-color: #008000\">'node_splits'</span>: <span style=\"font-weight: bold\">(</span><span style=\"color: #008080; text-decoration-color: #008080; font-weight: bold\">1</span>, <span style=\"color: #008080; text-decoration-color: #008080; font-weight: bold\">469</span><span style=\"font-weight: bold\">)</span>\n",
       "<span style=\"font-weight: bold\">}</span>\n",
       "</pre>\n"
      ],
      "text/plain": [
       "\u001b[1m{\u001b[0m\n",
       "    \u001b[32m'node_feat'\u001b[0m: \u001b[1m(\u001b[0m\u001b[1;36m40332\u001b[0m, \u001b[1;36m140\u001b[0m\u001b[1m)\u001b[0m,\n",
       "    \u001b[32m'node_opcode'\u001b[0m: \u001b[1m(\u001b[0m\u001b[1;36m40332\u001b[0m,\u001b[1m)\u001b[0m,\n",
       "    \u001b[32m'edge_index'\u001b[0m: \u001b[1m(\u001b[0m\u001b[1;36m71912\u001b[0m, \u001b[1;36m2\u001b[0m\u001b[1m)\u001b[0m,\n",
       "    \u001b[32m'node_config_feat'\u001b[0m: \u001b[1m(\u001b[0m\u001b[1;36m10760\u001b[0m, \u001b[1;36m2251\u001b[0m, \u001b[1;36m18\u001b[0m\u001b[1m)\u001b[0m,\n",
       "    \u001b[32m'node_config_ids'\u001b[0m: \u001b[1m(\u001b[0m\u001b[1;36m2251\u001b[0m,\u001b[1m)\u001b[0m,\n",
       "    \u001b[32m'config_runtime'\u001b[0m: \u001b[1m(\u001b[0m\u001b[1;36m10760\u001b[0m,\u001b[1m)\u001b[0m,\n",
       "    \u001b[32m'node_splits'\u001b[0m: \u001b[1m(\u001b[0m\u001b[1;36m1\u001b[0m, \u001b[1;36m469\u001b[0m\u001b[1m)\u001b[0m\n",
       "\u001b[1m}\u001b[0m\n"
      ]
     },
     "metadata": {},
     "output_type": "display_data"
    }
   ],
   "source": [
    "def check_npz_shape(npz_file):\n",
    "    keys_and_shapes = {key: npz_file[key].shape for key in npz_file.keys()}\n",
    "    print(keys_and_shapes)\n",
    "    \n",
    "def check_npz_array(npz_file):\n",
    "    keys_and_array = {key: npz_file[key] for key in npz_file.keys()}\n",
    "    print(keys_and_array)\n",
    "    \n",
    "check_npz_shape(ndf_nps_train[0])\n",
    "check_npz_shape(nrd_nps_train[0])\n",
    "check_npz_shape(xdf_nps_train[0])\n",
    "check_npz_shape(xrd_nps_train[0])\n",
    "check_npz_shape(ndf_nps_train[1])\n",
    "check_npz_shape(nrd_nps_train[1])\n",
    "check_npz_shape(xdf_nps_train[1])\n",
    "check_npz_shape(xrd_nps_train[1])"
   ]
  },
  {
   "cell_type": "code",
   "execution_count": 6,
   "metadata": {},
   "outputs": [
    {
     "data": {
      "text/plain": [
       "array([[    2,     0],\n",
       "       [    2,     1],\n",
       "       [    5,     3],\n",
       "       ...,\n",
       "       [43614, 43609],\n",
       "       [43614, 43610],\n",
       "       [43614, 43613]])"
      ]
     },
     "execution_count": 6,
     "metadata": {},
     "output_type": "execute_result"
    }
   ],
   "source": [
    "xrd_nps_test[0]['edge_index']"
   ]
  }
 ],
 "metadata": {
  "kernelspec": {
   "display_name": "ai",
   "language": "python",
   "name": "python3"
  },
  "language_info": {
   "codemirror_mode": {
    "name": "ipython",
    "version": 3
   },
   "file_extension": ".py",
   "mimetype": "text/x-python",
   "name": "python",
   "nbconvert_exporter": "python",
   "pygments_lexer": "ipython3",
   "version": "3.11.4"
  },
  "orig_nbformat": 4
 },
 "nbformat": 4,
 "nbformat_minor": 2
}
